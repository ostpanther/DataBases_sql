{
 "cells": [
  {
   "cell_type": "code",
   "execution_count": 46,
   "metadata": {},
   "outputs": [
    {
     "name": "stdout",
     "output_type": "stream",
     "text": [
      "<mysql.connector.connection_cext.CMySQLConnection object at 0x1260d7b90>\n"
     ]
    }
   ],
   "source": [
    "import pandas as pd\n",
    "import mysql.connector\n",
    "\n",
    "connection = mysql.connector.connect(\n",
    "    host='localhost',\n",
    "    user='root',\n",
    "    password='password',\n",
    "    port=33062,\n",
    "    database = 'audiobookService',\n",
    "    ssl_disabled=True #Secure Sockets Layer\n",
    ")\n",
    "\n",
    "print(connection)"
   ]
  },
  {
   "cell_type": "code",
   "execution_count": 2,
   "metadata": {},
   "outputs": [
    {
     "data": {
      "text/plain": [
       "True"
      ]
     },
     "execution_count": 2,
     "metadata": {},
     "output_type": "execute_result"
    }
   ],
   "source": [
    "# для того чтобы писать запросы к БД\n",
    "cursor = connection.cursor()\n",
    "\n",
    "# запрос. Вытащите всех авторов и их книги\n",
    "query = \"\"\" \n",
    "     SELECT author_name, ab.title FROM Audiobook ab\n",
    "     JOIN audiobookService.AuthorAudiobook aa ON aa.audiobook_id = ab.audiobook_id\n",
    "     JOIN audiobookService.Author a ON a.author_id = aa.author_id \n",
    "\"\"\"\n",
    "\n",
    "# выполнение запроса (но только для одной строки, поэтому нужен цикл )\n",
    "cursor.execute(query)\n",
    "\n",
    "result = []\n",
    "for i, data in enumerate(cursor):\n",
    "     result.append(data)\n",
    "\n",
    "# не забудь закрыть соединение и курсор \n",
    "connection.close()\n",
    "cursor.close()"
   ]
  },
  {
   "cell_type": "code",
   "execution_count": 4,
   "metadata": {},
   "outputs": [
    {
     "data": {
      "text/html": [
       "<div>\n",
       "<style scoped>\n",
       "    .dataframe tbody tr th:only-of-type {\n",
       "        vertical-align: middle;\n",
       "    }\n",
       "\n",
       "    .dataframe tbody tr th {\n",
       "        vertical-align: top;\n",
       "    }\n",
       "\n",
       "    .dataframe thead th {\n",
       "        text-align: right;\n",
       "    }\n",
       "</style>\n",
       "<table border=\"1\" class=\"dataframe\">\n",
       "  <thead>\n",
       "    <tr style=\"text-align: right;\">\n",
       "      <th></th>\n",
       "      <th>author</th>\n",
       "      <th>title</th>\n",
       "    </tr>\n",
       "  </thead>\n",
       "  <tbody>\n",
       "    <tr>\n",
       "      <th>0</th>\n",
       "      <td>Пушкин А.С.</td>\n",
       "      <td>Онегин</td>\n",
       "    </tr>\n",
       "    <tr>\n",
       "      <th>1</th>\n",
       "      <td>Толстой Л.Н.</td>\n",
       "      <td>Война и мир</td>\n",
       "    </tr>\n",
       "    <tr>\n",
       "      <th>2</th>\n",
       "      <td>Толстой Л.Н.</td>\n",
       "      <td>Анна Каренина</td>\n",
       "    </tr>\n",
       "    <tr>\n",
       "      <th>3</th>\n",
       "      <td>Толстой Л.Н.</td>\n",
       "      <td>Детство</td>\n",
       "    </tr>\n",
       "    <tr>\n",
       "      <th>4</th>\n",
       "      <td>Толстой Л.Н.</td>\n",
       "      <td>Отрочество</td>\n",
       "    </tr>\n",
       "    <tr>\n",
       "      <th>5</th>\n",
       "      <td>Толстой Л.Н.</td>\n",
       "      <td>Юность</td>\n",
       "    </tr>\n",
       "    <tr>\n",
       "      <th>6</th>\n",
       "      <td>Достоевский Ф.М.</td>\n",
       "      <td>Преступление и наказание</td>\n",
       "    </tr>\n",
       "    <tr>\n",
       "      <th>7</th>\n",
       "      <td>Достоевский Ф.М.</td>\n",
       "      <td>Идиот</td>\n",
       "    </tr>\n",
       "    <tr>\n",
       "      <th>8</th>\n",
       "      <td>Чехов А.П.</td>\n",
       "      <td>Вишневый сад</td>\n",
       "    </tr>\n",
       "    <tr>\n",
       "      <th>9</th>\n",
       "      <td>Гоголь Н.В.</td>\n",
       "      <td>Мертвые души</td>\n",
       "    </tr>\n",
       "    <tr>\n",
       "      <th>10</th>\n",
       "      <td>Тургенев И.С.</td>\n",
       "      <td>Отцы и дети</td>\n",
       "    </tr>\n",
       "    <tr>\n",
       "      <th>11</th>\n",
       "      <td>Лермонтов М.Ю.</td>\n",
       "      <td>Герой нашего времени</td>\n",
       "    </tr>\n",
       "    <tr>\n",
       "      <th>12</th>\n",
       "      <td>Лермонтов М.Ю.</td>\n",
       "      <td>Смерть поэта</td>\n",
       "    </tr>\n",
       "    <tr>\n",
       "      <th>13</th>\n",
       "      <td>Булгаков М.А.</td>\n",
       "      <td>Мастер и Маргарита</td>\n",
       "    </tr>\n",
       "    <tr>\n",
       "      <th>14</th>\n",
       "      <td>Солженицын А.И.</td>\n",
       "      <td>Один день Ивана Денисовича</td>\n",
       "    </tr>\n",
       "    <tr>\n",
       "      <th>15</th>\n",
       "      <td>Акунин Б.А.</td>\n",
       "      <td>Азазель</td>\n",
       "    </tr>\n",
       "    <tr>\n",
       "      <th>16</th>\n",
       "      <td>Dreiser T.</td>\n",
       "      <td>Финансист</td>\n",
       "    </tr>\n",
       "    <tr>\n",
       "      <th>17</th>\n",
       "      <td>Hemingway E.</td>\n",
       "      <td>Прощай, оружие</td>\n",
       "    </tr>\n",
       "    <tr>\n",
       "      <th>18</th>\n",
       "      <td>Austen J.</td>\n",
       "      <td>Гордость и предубеждение</td>\n",
       "    </tr>\n",
       "    <tr>\n",
       "      <th>19</th>\n",
       "      <td>Hugo V.</td>\n",
       "      <td>Собор Парижской Богоматери</td>\n",
       "    </tr>\n",
       "    <tr>\n",
       "      <th>20</th>\n",
       "      <td>Hugo V.</td>\n",
       "      <td>Les miserables</td>\n",
       "    </tr>\n",
       "    <tr>\n",
       "      <th>21</th>\n",
       "      <td>Hugo V.</td>\n",
       "      <td>L'Homme qui rit</td>\n",
       "    </tr>\n",
       "    <tr>\n",
       "      <th>22</th>\n",
       "      <td>Orwell G.</td>\n",
       "      <td>1984</td>\n",
       "    </tr>\n",
       "    <tr>\n",
       "      <th>23</th>\n",
       "      <td>Клышинский Э.С.</td>\n",
       "      <td>Автоматическая обработка текстов на естественн...</td>\n",
       "    </tr>\n",
       "    <tr>\n",
       "      <th>24</th>\n",
       "      <td>Большакова Е.И.</td>\n",
       "      <td>Автоматическая обработка текстов на естественн...</td>\n",
       "    </tr>\n",
       "    <tr>\n",
       "      <th>25</th>\n",
       "      <td>Воронцов К.В.</td>\n",
       "      <td>Автоматическая обработка текстов на естественн...</td>\n",
       "    </tr>\n",
       "    <tr>\n",
       "      <th>26</th>\n",
       "      <td>Ефремова Н.Э.</td>\n",
       "      <td>Автоматическая обработка текстов на естественн...</td>\n",
       "    </tr>\n",
       "    <tr>\n",
       "      <th>27</th>\n",
       "      <td>Лукашевич Н.В.</td>\n",
       "      <td>Автоматическая обработка текстов на естественн...</td>\n",
       "    </tr>\n",
       "    <tr>\n",
       "      <th>28</th>\n",
       "      <td>Сапин А.С.</td>\n",
       "      <td>Автоматическая обработка текстов на естественн...</td>\n",
       "    </tr>\n",
       "  </tbody>\n",
       "</table>\n",
       "</div>"
      ],
      "text/plain": [
       "              author                                              title\n",
       "0        Пушкин А.С.                                             Онегин\n",
       "1       Толстой Л.Н.                                        Война и мир\n",
       "2       Толстой Л.Н.                                      Анна Каренина\n",
       "3       Толстой Л.Н.                                            Детство\n",
       "4       Толстой Л.Н.                                         Отрочество\n",
       "5       Толстой Л.Н.                                             Юность\n",
       "6   Достоевский Ф.М.                           Преступление и наказание\n",
       "7   Достоевский Ф.М.                                              Идиот\n",
       "8         Чехов А.П.                                       Вишневый сад\n",
       "9        Гоголь Н.В.                                       Мертвые души\n",
       "10     Тургенев И.С.                                        Отцы и дети\n",
       "11    Лермонтов М.Ю.                               Герой нашего времени\n",
       "12    Лермонтов М.Ю.                                       Смерть поэта\n",
       "13     Булгаков М.А.                                 Мастер и Маргарита\n",
       "14   Солженицын А.И.                         Один день Ивана Денисовича\n",
       "15       Акунин Б.А.                                            Азазель\n",
       "16        Dreiser T.                                          Финансист\n",
       "17      Hemingway E.                                     Прощай, оружие\n",
       "18         Austen J.                           Гордость и предубеждение\n",
       "19           Hugo V.                         Собор Парижской Богоматери\n",
       "20           Hugo V.                                     Les miserables\n",
       "21           Hugo V.                                    L'Homme qui rit\n",
       "22         Orwell G.                                               1984\n",
       "23   Клышинский Э.С.  Автоматическая обработка текстов на естественн...\n",
       "24   Большакова Е.И.  Автоматическая обработка текстов на естественн...\n",
       "25     Воронцов К.В.  Автоматическая обработка текстов на естественн...\n",
       "26     Ефремова Н.Э.  Автоматическая обработка текстов на естественн...\n",
       "27    Лукашевич Н.В.  Автоматическая обработка текстов на естественн...\n",
       "28        Сапин А.С.  Автоматическая обработка текстов на естественн..."
      ]
     },
     "execution_count": 4,
     "metadata": {},
     "output_type": "execute_result"
    }
   ],
   "source": [
    "df = pd.DataFrame(result)\n",
    "df.columns = ['author', 'title']\n",
    "df"
   ]
  },
  {
   "cell_type": "code",
   "execution_count": null,
   "metadata": {},
   "outputs": [],
   "source": [
    "# для того чтобы писать запросы к БД\n",
    "cursor = connection.cursor()\n",
    "\n",
    "# запрос. Создайте таблицу подсчета всех пользователей\n",
    "query = \"\"\" \n",
    "    CREATE TABLE audiobookService.users_amount (\n",
    "        user_count INT NOT NULL\n",
    "    );\n",
    "\"\"\"\n",
    "\n",
    "# выполнение запроса\n",
    "cursor.execute(query)\n",
    "\n",
    "# закрытие\n",
    "connection.close()\n",
    "cursor.close()"
   ]
  },
  {
   "cell_type": "code",
   "execution_count": 26,
   "metadata": {},
   "outputs": [
    {
     "data": {
      "text/plain": [
       "True"
      ]
     },
     "execution_count": 26,
     "metadata": {},
     "output_type": "execute_result"
    }
   ],
   "source": [
    "cursor = connection.cursor()\n",
    "\n",
    "# запрос. Дроп таблицы\n",
    "query = \"\"\" \n",
    "    DROP TABLE audiobookService.users_amount \n",
    "\"\"\"\n",
    "\n",
    "# выполнение запроса\n",
    "cursor.execute(query)\n",
    "\n",
    "# закрытие\n",
    "connection.close()\n",
    "cursor.close()"
   ]
  },
  {
   "cell_type": "code",
   "execution_count": 40,
   "metadata": {},
   "outputs": [
    {
     "data": {
      "text/plain": [
       "True"
      ]
     },
     "execution_count": 40,
     "metadata": {},
     "output_type": "execute_result"
    }
   ],
   "source": [
    "cursor = connection.cursor()\n",
    "\n",
    "# Подсчитайте кол-во всех юзеров и внесите данные в users_amount\n",
    "query = \"\"\" \n",
    "    INSERT INTO audiobookService.users_amount (user_count)\n",
    "    SELECT COUNT(*) FROM audiobookService.User;\n",
    "\"\"\"\n",
    "\n",
    "# выполнение запроса\n",
    "cursor.execute(query)\n",
    "\n",
    "# Подтверждение и закрытие \n",
    "connection.commit()\n",
    "connection.close()\n",
    "cursor.close()"
   ]
  },
  {
   "cell_type": "code",
   "execution_count": 44,
   "metadata": {},
   "outputs": [
    {
     "data": {
      "text/plain": [
       "True"
      ]
     },
     "execution_count": 44,
     "metadata": {},
     "output_type": "execute_result"
    }
   ],
   "source": [
    "# Проверка запроса\n",
    "\n",
    "cursor = connection.cursor()\n",
    "\n",
    "query = \"\"\" \n",
    "    SELECT * FROM audiobookService.users_amount\n",
    "\"\"\"\n",
    "\n",
    "cursor.execute(query)\n",
    "\n",
    "usr_amt = []\n",
    "for i, data in enumerate(cursor):\n",
    "     usr_amt.append(data)\n",
    "\n",
    "connection.close()\n",
    "cursor.close()"
   ]
  },
  {
   "cell_type": "code",
   "execution_count": 45,
   "metadata": {},
   "outputs": [
    {
     "data": {
      "text/plain": [
       "[(22,)]"
      ]
     },
     "execution_count": 45,
     "metadata": {},
     "output_type": "execute_result"
    }
   ],
   "source": [
    "usr_amt"
   ]
  }
 ],
 "metadata": {
  "kernelspec": {
   "display_name": ".venv",
   "language": "python",
   "name": "python3"
  },
  "language_info": {
   "codemirror_mode": {
    "name": "ipython",
    "version": 3
   },
   "file_extension": ".py",
   "mimetype": "text/x-python",
   "name": "python",
   "nbconvert_exporter": "python",
   "pygments_lexer": "ipython3",
   "version": "3.12.1"
  }
 },
 "nbformat": 4,
 "nbformat_minor": 2
}
